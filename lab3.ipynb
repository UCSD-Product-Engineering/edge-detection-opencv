{
 "cells": [
  {
   "cell_type": "code",
   "execution_count": null,
   "metadata": {},
   "outputs": [],
   "source": [
    "!pip install numpy matplotlib scipy --user"
   ]
  },
  {
   "cell_type": "code",
   "execution_count": null,
   "metadata": {},
   "outputs": [],
   "source": [
    "import numpy as np\n",
    "import matplotlib.pyplot as plt\n",
    "import cv2\n",
    "from scipy.ndimage.filters import gaussian_filter"
   ]
  },
  {
   "cell_type": "code",
   "execution_count": null,
   "metadata": {},
   "outputs": [],
   "source": [
    "def rgb2gray(rgb):\n",
    "    return np.dot(rgb[...,:3], [0.299, 0.587, 0.114])"
   ]
  },
  {
   "cell_type": "markdown",
   "metadata": {},
   "source": [
    "# Edge Detection\n",
    "\n",
    "What are edges? Edges are areas in the image which have large discontinuities in their intensity values. <br>\n",
    "In order to detect edges, we will use a naive approach based on image gradients. <br>\n",
    "\n",
    "The idea is pretty simple and intuitive. For vertical edges, we will have large gradients along x axis and similarly, for horizontal edges, we will have large gradients along y axis. We will compute gradients along x and y axes and compute the magnitude as described below. This will give us the intensity of the gradient at that pixel.\n",
    "\n",
    "To summarize, you have to\n",
    "\n",
    "- Read an image using opencv. (See cv2.imread())\n",
    "- Convert it into grayscale.  (Use rgb2gray() or cv2.cvtColor())\n",
    "- Compute gradients in x and y direction, i.e, compute $I_x$ and $I_y$ \n",
    "- The gradient along x-direction is given by $ I_x(i, j) = I(i, j+1) - I(i, j) $, where $I(i, j)$ represents intensity of the image at pixel $(i, j)$.\n",
    "- Similarly, the gradient along y-direction is given by $ I_y(i, j) = I(i+1, j) - I(i, j) $\n",
    "- Create a new image which has intensity values as $ I(i, j) = \\sqrt{{I_x(i, j)}^2 + {I_y(i, j)}^2} $\n",
    "- Display this image"
   ]
  },
  {
   "cell_type": "code",
   "execution_count": null,
   "metadata": {},
   "outputs": [],
   "source": [
    "filename = 'dog.1.jpg'\n",
    "img = cv2.imread(filename)\n",
    "gray = rgb2gray(img).astype(np.float32)\n",
    "\n",
    "def detect_edges(gray_img):\n",
    "    '''\n",
    "    Detect edges and return the result.\n",
    "    '''\n",
    "    pass\n",
    "\n",
    "plt.imshow(detect_edges(gray), cmap='gray')\n",
    "plt.show()"
   ]
  },
  {
   "cell_type": "markdown",
   "metadata": {},
   "source": [
    "# Corner Detectors\n",
    "\n",
    "Now we will use another naive approach to detect corners in an image. These corners can help identify a lot of interesting keypoints in an image, and are extensively used in panorama stitching, 3D reconstruction, optical flow (motion estimation) and various other downstream tasks.\n",
    "\n",
    "The best way to characterize corners in an image would be to look at windows (or kernels) of some size (say 3x3) and see how much the intensity values vary when we move the window in any direction. If there is a large change in intensity value when we move the window in only one direction, we can say that there might be an edge present there. However, if the intensity change is big for both directions, we can say there might be a corner present in the image.\n",
    "\n",
    "![Corners](corners1.png)"
   ]
  },
  {
   "cell_type": "markdown",
   "metadata": {},
   "source": [
    "This is precisely the approach we will follow. <br>\n",
    "\n",
    "Since the images can have sharp discontinuities at many other pixel locations which are not corners, we will use a gaussial kernel to 'smooth' the image. This simple means making a call to scipy.misc.gaussian_filter(image, standard_deviation) before doing any operations on the image. This will help us reject a lot of misclassified corners.\n",
    "\n",
    "We will use a sliding window of size *windowSize* and slide it across the image. For every window that we see in this image, we will compute a moment matrix as follows.\n",
    "\n",
    "$$\n",
    "M(i, j) = \\quad \\begin{bmatrix} \\sum I_x^2 & \\sum I_{x} I_y \\\\ \\sum I_x I_y & \\sum I_y^2 \\end{bmatrix}\n",
    "$$\n",
    "Where $I_x$ is the image gradient along x direction, $I_y$ is the image gradient along y direction, and this sume is across a window of size (k x k). \n",
    "\n",
    "![Convolution](convolutions.gif)\n",
    "\n",
    "\n",
    "Hence for every pixel $(i, j)$ we use a window that spans across $(i - k/2, j - k/2)$ to $(i+k/2, j+k/2)$ and create the Moment matrix. This moment matrix is simply a 2x2 matrix. Now, whether or not there exists a corner at pixel (i, j) is found my computing the eigenvalues of M(i, j). You can use np.linalg.eigvals(x) to compute eigenvalues of a matrix x. We will have an edge if only one of the eigenvalue is large. If both these eigenvalues are large, we have a corner, and those are the points we're interested in.\n",
    "\n",
    "Your task is to implement the detect_corners() method below which takes in a grayscale image, the maximum number of corners to return, standard deviation of the gaussian kernel and the size of the sliding window and does the following\n",
    "- filters the image using a gaussian kernel of standard deviation = smoothSTD  (scipy.misc.gaussian_filter())\n",
    "- computes the image gradients along x and y directions   (you can use np.gradient())\n",
    "- for each window in the smoothed image, computes the Moment Matrix M and it's eigenvalues. If both the eigenvalues are large, we add this pixel to the list of corners.\n",
    "- Returns the top n = max_num_of_corners from this list.\n",
    "\n",
    "You can read more about this here: https://docs.opencv.org/3.0-beta/doc/py_tutorials/py_feature2d/py_features_harris/py_features_harris.html"
   ]
  },
  {
   "cell_type": "code",
   "execution_count": null,
   "metadata": {},
   "outputs": [],
   "source": [
    "def detect_corners(image, max_num_of_corners, smoothSTD, windowSize):\n",
    "    \"\"\"\n",
    "    Detect corners on a given image.\n",
    "\n",
    "    Args:\n",
    "        image: Given a grayscale image on which to detect corners.\n",
    "        max_num_of_corners: Total number of corners to be extracted.\n",
    "        smoothSTD: Standard deviation of the Gaussian smoothing kernel.\n",
    "        windowSize: Window size for corner detector and non maximum suppression.\n",
    "\n",
    "    Returns:\n",
    "        Detected corners (in image coordinate, i.e, x and y coordinate of the pixels \n",
    "        corresponding to corners) in a numpy array (n*2).\n",
    "\n",
    "    \"\"\"\n",
    "    \n",
    "    \"\"\"\n",
    "    Your code here:\n",
    "    \"\"\"\n",
    "    \n",
    "    # filtered_image = ...\n",
    "    # grad_y, grad_x = ...\n",
    "    \n",
    "    # corners = []\n",
    "    # k = (windowSize-1)//2\n",
    "    \n",
    "    # for i in range(k, image.shape[0] - k, windowSize):\n",
    "    #     for j in range(k, image.shape[1] - k, windowSize):\n",
    "    #         Compute M\n",
    "    #         Compute it's eigenvalues and see if (i, j) is a corner. Hint: check if min(eig1, eig2) is large.\n",
    "    \n",
    "    # Return top max_num_of_corners from list of corners. Hint: sort them using their smallest eigenvalue.\n",
    "    pass"
   ]
  },
  {
   "cell_type": "code",
   "execution_count": null,
   "metadata": {},
   "outputs": [],
   "source": [
    "nCorners = 40        # Maximum number of corners to return\n",
    "smoothSTD = 2        # Smooth image with a gaussian filter of this standard deviation\n",
    "windowSize = 5       # Window size for the sliding kernel\n",
    "\n",
    "# read images and detect corners on images\n",
    "imgs_dogs = []\n",
    "crns_dogs = []\n",
    "imgs_cats = []\n",
    "crns_cats = []\n",
    "\n",
    "for i in range(2):\n",
    "    img_1 = cv2.imread('dog.' + str(i) + '.jpg')\n",
    "    imgs_dogs.append(rgb2gray(img_1))\n",
    "    crns_dogs.append(detect_corners(imgs_dogs[i], nCorners, smoothSTD, windowSize))\n",
    "    \n",
    "    img_2 = cv2.imread('cat.' + str(i) + '.jpg')\n",
    "    imgs_cats.append(rgb2gray(img_2))\n",
    "    crns_cats.append(detect_corners(imgs_cats[i], nCorners, smoothSTD, windowSize))"
   ]
  },
  {
   "cell_type": "code",
   "execution_count": null,
   "metadata": {},
   "outputs": [],
   "source": [
    "def plot_corners(imgs, corners):\n",
    "    fig = plt.figure(figsize=(15, 10))\n",
    "    ax1 = fig.add_subplot(221)\n",
    "    ax1.imshow(imgs[0], cmap='gray')\n",
    "    ax1.scatter(corners[0][:, 0], corners[0][:, 1], s=35, edgecolors='r', facecolors='none')\n",
    "\n",
    "    ax2 = fig.add_subplot(222)\n",
    "    ax2.imshow(imgs[1], cmap='gray')\n",
    "    ax2.scatter(corners[1][:, 0], corners[1][:, 1], s=35, edgecolors='r', facecolors='none')\n",
    "    plt.show()\n",
    "\n",
    "plot_corners(imgs_dogs, crns_dogs)\n",
    "plot_corners(imgs_cats, crns_cats)"
   ]
  },
  {
   "cell_type": "code",
   "execution_count": null,
   "metadata": {},
   "outputs": [],
   "source": []
  }
 ],
 "metadata": {
  "kernelspec": {
   "display_name": "Python 3",
   "language": "python",
   "name": "python3"
  },
  "language_info": {
   "codemirror_mode": {
    "name": "ipython",
    "version": 3
   },
   "file_extension": ".py",
   "mimetype": "text/x-python",
   "name": "python",
   "nbconvert_exporter": "python",
   "pygments_lexer": "ipython3",
   "version": "3.6.7"
  }
 },
 "nbformat": 4,
 "nbformat_minor": 2
}
